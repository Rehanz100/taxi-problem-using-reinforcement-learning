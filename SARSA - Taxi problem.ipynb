{
 "cells": [
  {
   "cell_type": "markdown",
   "id": "d4286372",
   "metadata": {},
   "source": [
    "## Improving the Q algorithm using SARSA."
   ]
  },
  {
   "cell_type": "code",
   "execution_count": 1,
   "id": "33548755",
   "metadata": {},
   "outputs": [],
   "source": [
    "import gym\n",
    "import numpy as np\n",
    "import time, pickle, os"
   ]
  },
  {
   "cell_type": "code",
   "execution_count": 2,
   "id": "b7d6b7af",
   "metadata": {},
   "outputs": [],
   "source": [
    "env = gym.make('Taxi-v3')"
   ]
  },
  {
   "cell_type": "code",
   "execution_count": 3,
   "id": "7cd2da80",
   "metadata": {},
   "outputs": [],
   "source": [
    "alpha = 0.81 # 0.618\n",
    "gamma = 0.96"
   ]
  },
  {
   "cell_type": "code",
   "execution_count": 4,
   "id": "fb10f940",
   "metadata": {},
   "outputs": [],
   "source": [
    "state = env.reset()"
   ]
  },
  {
   "cell_type": "markdown",
   "id": "9d673302",
   "metadata": {},
   "source": [
    "## Q-Learning"
   ]
  },
  {
   "cell_type": "code",
   "execution_count": 5,
   "id": "3c3d4d62",
   "metadata": {},
   "outputs": [],
   "source": [
    "Q = np.zeros((env.observation_space.n, env.action_space.n))"
   ]
  },
  {
   "cell_type": "code",
   "execution_count": 6,
   "id": "d09288cc",
   "metadata": {},
   "outputs": [],
   "source": [
    "total_episodes = 5000\n",
    "G = 0\n",
    "alpha = 0.618\n",
    "max_steps = 100\n",
    "gamma = 0.96"
   ]
  },
  {
   "cell_type": "code",
   "execution_count": 7,
   "id": "8e094354",
   "metadata": {},
   "outputs": [],
   "source": [
    "for episode in range(1,total_episodes+1):\n",
    "    done = False\n",
    "    G, reward = 0,0\n",
    "    state = env.reset()\n",
    "    firstState = state\n",
    "    noSteps = 0\n",
    "    #print(\"Initial State = {}\".format(state))\n",
    "    while done != True:\n",
    "        action = np.argmax(Q[state]) \n",
    "        state2, reward, done, info = env.step(action)\n",
    "        Q[state,action] += alpha * (reward + np.max(Q[state2]) - Q[state,action]) \n",
    "        G += reward\n",
    "        state = state2\n",
    "        noSteps = noSteps + 1\n",
    "        if(noSteps >= max_steps):\n",
    "          done = True "
   ]
  },
  {
   "cell_type": "code",
   "execution_count": 8,
   "id": "ea472f42",
   "metadata": {},
   "outputs": [
    {
     "data": {
      "text/plain": [
       "array([[ 0.        ,  0.        ,  0.        ,  0.        ,  0.        ,\n",
       "         0.        ],\n",
       "       [-5.86405189, -5.562     , -5.47108618, -5.562     , 11.        ,\n",
       "        -6.18      ],\n",
       "       [-4.07485821, -4.326     , -4.70289704, -4.326     , 15.        ,\n",
       "        -6.18      ],\n",
       "       ...,\n",
       "       [-3.09      , 16.        , -3.09      , -3.03736046, -6.18      ,\n",
       "        -6.18      ],\n",
       "       [-4.944     , -4.90097874, -4.944     , -4.5768541 , -6.18      ,\n",
       "        -6.18      ],\n",
       "       [-1.236     , -1.236     , -1.236     ,  6.784404  , -6.18      ,\n",
       "        -6.18      ]])"
      ]
     },
     "execution_count": 8,
     "metadata": {},
     "output_type": "execute_result"
    }
   ],
   "source": [
    "Q"
   ]
  },
  {
   "cell_type": "code",
   "execution_count": 9,
   "id": "07928040",
   "metadata": {},
   "outputs": [],
   "source": [
    "state = env.reset()\n",
    "done = None"
   ]
  },
  {
   "cell_type": "code",
   "execution_count": 10,
   "id": "49952096",
   "metadata": {},
   "outputs": [
    {
     "name": "stdout",
     "output_type": "stream",
     "text": [
      "+---------+\n",
      "|\u001b[34;1mR\u001b[0m: | : :G|\n",
      "| : | : : |\n",
      "| : : : : |\n",
      "| |\u001b[43m \u001b[0m: | : |\n",
      "|\u001b[35mY\u001b[0m| : |B: |\n",
      "+---------+\n",
      "  (North)\n",
      "+---------+\n",
      "|\u001b[34;1mR\u001b[0m: | : :G|\n",
      "| : | : : |\n",
      "| :\u001b[43m \u001b[0m: : : |\n",
      "| | : | : |\n",
      "|\u001b[35mY\u001b[0m| : |B: |\n",
      "+---------+\n",
      "  (North)\n",
      "+---------+\n",
      "|\u001b[34;1mR\u001b[0m: | : :G|\n",
      "| : | : : |\n",
      "|\u001b[43m \u001b[0m: : : : |\n",
      "| | : | : |\n",
      "|\u001b[35mY\u001b[0m| : |B: |\n",
      "+---------+\n",
      "  (West)\n",
      "+---------+\n",
      "|\u001b[34;1mR\u001b[0m: | : :G|\n",
      "|\u001b[43m \u001b[0m: | : : |\n",
      "| : : : : |\n",
      "| | : | : |\n",
      "|\u001b[35mY\u001b[0m| : |B: |\n",
      "+---------+\n",
      "  (North)\n",
      "+---------+\n",
      "|\u001b[34;1m\u001b[43mR\u001b[0m\u001b[0m: | : :G|\n",
      "| : | : : |\n",
      "| : : : : |\n",
      "| | : | : |\n",
      "|\u001b[35mY\u001b[0m| : |B: |\n",
      "+---------+\n",
      "  (North)\n",
      "+---------+\n",
      "|\u001b[42mR\u001b[0m: | : :G|\n",
      "| : | : : |\n",
      "| : : : : |\n",
      "| | : | : |\n",
      "|\u001b[35mY\u001b[0m| : |B: |\n",
      "+---------+\n",
      "  (Pickup)\n",
      "+---------+\n",
      "|R: | : :G|\n",
      "|\u001b[42m_\u001b[0m: | : : |\n",
      "| : : : : |\n",
      "| | : | : |\n",
      "|\u001b[35mY\u001b[0m| : |B: |\n",
      "+---------+\n",
      "  (South)\n",
      "+---------+\n",
      "|R: | : :G|\n",
      "| : | : : |\n",
      "|\u001b[42m_\u001b[0m: : : : |\n",
      "| | : | : |\n",
      "|\u001b[35mY\u001b[0m| : |B: |\n",
      "+---------+\n",
      "  (South)\n",
      "+---------+\n",
      "|R: | : :G|\n",
      "| : | : : |\n",
      "| : : : : |\n",
      "|\u001b[42m_\u001b[0m| : | : |\n",
      "|\u001b[35mY\u001b[0m| : |B: |\n",
      "+---------+\n",
      "  (South)\n",
      "+---------+\n",
      "|R: | : :G|\n",
      "| : | : : |\n",
      "| : : : : |\n",
      "| | : | : |\n",
      "|\u001b[35m\u001b[42mY\u001b[0m\u001b[0m| : |B: |\n",
      "+---------+\n",
      "  (South)\n",
      "+---------+\n",
      "|R: | : :G|\n",
      "| : | : : |\n",
      "| : : : : |\n",
      "| | : | : |\n",
      "|\u001b[35m\u001b[34;1m\u001b[43mY\u001b[0m\u001b[0m\u001b[0m| : |B: |\n",
      "+---------+\n",
      "  (Dropoff)\n"
     ]
    }
   ],
   "source": [
    "counter = 0\n",
    "while done != True:\n",
    "    # We simply take the action with the highest Q Value\n",
    "    action = np.argmax(Q[state])\n",
    "    state, reward, done, info = env.step(action)\n",
    "    counter += 1\n",
    "    env.render()"
   ]
  },
  {
   "cell_type": "code",
   "execution_count": 11,
   "id": "c9f98b3a",
   "metadata": {
    "scrolled": true
   },
   "outputs": [
    {
     "name": "stdout",
     "output_type": "stream",
     "text": [
      "No of steps:  11\n",
      "Total Reward:  20\n"
     ]
    }
   ],
   "source": [
    "print(\"No of steps: \", counter)\n",
    "print(\"Total Reward: \", reward)"
   ]
  },
  {
   "cell_type": "markdown",
   "id": "112894a5",
   "metadata": {
    "colab_type": "text",
    "id": "JcSZ43PqQhEK"
   },
   "source": [
    "## SARSA"
   ]
  },
  {
   "cell_type": "markdown",
   "id": "cf1d7625",
   "metadata": {},
   "source": [
    "Epsilon set to 0.05, so 5 % of the time, the agent will try to explore rather than exploit"
   ]
  },
  {
   "cell_type": "code",
   "execution_count": 12,
   "id": "79f9ebb5",
   "metadata": {
    "colab": {},
    "colab_type": "code",
    "id": "ass0kP1rQhEL"
   },
   "outputs": [],
   "source": [
    "def choose_action(state):\n",
    "    action=0\n",
    "    if np.random.uniform(0, 1) < epsilon: #If the random number is less than the epsilon value we choose to explore\n",
    "        action = env.action_space.sample()\n",
    "    else: # Else the agent exploits using the existing Q table\n",
    "        action = np.argmax(Q[state, :])\n",
    "    return action"
   ]
  },
  {
   "cell_type": "code",
   "execution_count": 13,
   "id": "8a9eeb6a",
   "metadata": {
    "colab": {},
    "colab_type": "code",
    "id": "OFY4s6KLQhEP"
   },
   "outputs": [],
   "source": [
    "def learn(state, stateNext, reward, action, actionNext):\n",
    "    predict = Q[state, action]\n",
    "    target = reward + gamma * Q[stateNext, actionNext]\n",
    "    Q[state, action] = Q[state, action] + alpha * (target - predict)"
   ]
  },
  {
   "cell_type": "code",
   "execution_count": 14,
   "id": "f5a89eff",
   "metadata": {
    "colab": {},
    "colab_type": "code",
    "id": "OvFPh5DlQhES"
   },
   "outputs": [],
   "source": [
    "total_episodes = 10000; max_steps = 100; epsilon = 0.05; alpha = 0.618; gamma = 0.9\n",
    "Q = np.zeros((env.observation_space.n, env.action_space.n))"
   ]
  },
  {
   "cell_type": "code",
   "execution_count": 15,
   "id": "e3fec693",
   "metadata": {
    "colab": {},
    "colab_type": "code",
    "id": "tu4PLV18QhEU"
   },
   "outputs": [],
   "source": [
    "rewards = 0\n",
    "for episode in range(total_episodes):\n",
    "    counter = 0\n",
    "    state = env.reset()\n",
    "    action = choose_action(state)\n",
    "    done = False\n",
    "    #while counter < max_steps:\n",
    "    while done != True:\n",
    "        stateNext, reward, done, info = env.step(action)\n",
    "        actionNext = choose_action(stateNext)\n",
    "        learn(state, stateNext, reward, action, actionNext)\n",
    "        state = stateNext\n",
    "        action = actionNext"
   ]
  },
  {
   "cell_type": "code",
   "execution_count": 16,
   "id": "1f0f0106",
   "metadata": {
    "colab": {},
    "colab_type": "code",
    "id": "16B2P0K-QhEb"
   },
   "outputs": [],
   "source": [
    "state = env.reset()\n",
    "done = None"
   ]
  },
  {
   "cell_type": "code",
   "execution_count": 18,
   "id": "d2f004b4",
   "metadata": {
    "colab": {
     "base_uri": "https://localhost:8080/",
     "height": 1000
    },
    "colab_type": "code",
    "id": "TDhkGwp0QhEd",
    "outputId": "2ee257de-e338-43ea-8326-30da2fb9a833"
   },
   "outputs": [
    {
     "name": "stdout",
     "output_type": "stream",
     "text": [
      "+---------+\n",
      "|\u001b[35mR\u001b[0m: | : :G|\n",
      "| : | : :\u001b[43m \u001b[0m|\n",
      "| : : : : |\n",
      "| | : | : |\n",
      "|Y| : |\u001b[34;1mB\u001b[0m: |\n",
      "+---------+\n",
      "  (South)\n",
      "+---------+\n",
      "|\u001b[35mR\u001b[0m: | : :G|\n",
      "| : | :\u001b[43m \u001b[0m: |\n",
      "| : : : : |\n",
      "| | : | : |\n",
      "|Y| : |\u001b[34;1mB\u001b[0m: |\n",
      "+---------+\n",
      "  (West)\n",
      "+---------+\n",
      "|\u001b[35mR\u001b[0m: | : :G|\n",
      "| : | : : |\n",
      "| : : :\u001b[43m \u001b[0m: |\n",
      "| | : | : |\n",
      "|Y| : |\u001b[34;1mB\u001b[0m: |\n",
      "+---------+\n",
      "  (South)\n",
      "+---------+\n",
      "|\u001b[35mR\u001b[0m: | : :G|\n",
      "| : | : : |\n",
      "| : : : :\u001b[43m \u001b[0m|\n",
      "| | : | : |\n",
      "|Y| : |\u001b[34;1mB\u001b[0m: |\n",
      "+---------+\n",
      "  (East)\n",
      "+---------+\n",
      "|\u001b[35mR\u001b[0m: | : :G|\n",
      "| : | : : |\n",
      "| : : : : |\n",
      "| | : | :\u001b[43m \u001b[0m|\n",
      "|Y| : |\u001b[34;1mB\u001b[0m: |\n",
      "+---------+\n",
      "  (South)\n",
      "+---------+\n",
      "|\u001b[35mR\u001b[0m: | : :G|\n",
      "| : | : : |\n",
      "| : : : : |\n",
      "| | : | : |\n",
      "|Y| : |\u001b[34;1mB\u001b[0m:\u001b[43m \u001b[0m|\n",
      "+---------+\n",
      "  (South)\n",
      "+---------+\n",
      "|\u001b[35mR\u001b[0m: | : :G|\n",
      "| : | : : |\n",
      "| : : : : |\n",
      "| | : | : |\n",
      "|Y| : |\u001b[34;1m\u001b[43mB\u001b[0m\u001b[0m: |\n",
      "+---------+\n",
      "  (West)\n",
      "+---------+\n",
      "|\u001b[35mR\u001b[0m: | : :G|\n",
      "| : | : : |\n",
      "| : : : : |\n",
      "| | : | : |\n",
      "|Y| : |\u001b[42mB\u001b[0m: |\n",
      "+---------+\n",
      "  (Pickup)\n",
      "+---------+\n",
      "|\u001b[35mR\u001b[0m: | : :G|\n",
      "| : | : : |\n",
      "| : : : : |\n",
      "| | : |\u001b[42m_\u001b[0m: |\n",
      "|Y| : |B: |\n",
      "+---------+\n",
      "  (North)\n",
      "+---------+\n",
      "|\u001b[35mR\u001b[0m: | : :G|\n",
      "| : | : : |\n",
      "| : : :\u001b[42m_\u001b[0m: |\n",
      "| | : | : |\n",
      "|Y| : |B: |\n",
      "+---------+\n",
      "  (North)\n",
      "+---------+\n",
      "|\u001b[35mR\u001b[0m: | : :G|\n",
      "| : | :\u001b[42m_\u001b[0m: |\n",
      "| : : : : |\n",
      "| | : | : |\n",
      "|Y| : |B: |\n",
      "+---------+\n",
      "  (North)\n",
      "+---------+\n",
      "|\u001b[35mR\u001b[0m: | : :G|\n",
      "| : |\u001b[42m_\u001b[0m: : |\n",
      "| : : : : |\n",
      "| | : | : |\n",
      "|Y| : |B: |\n",
      "+---------+\n",
      "  (West)\n",
      "+---------+\n",
      "|\u001b[35mR\u001b[0m: | : :G|\n",
      "| : | : : |\n",
      "| : :\u001b[42m_\u001b[0m: : |\n",
      "| | : | : |\n",
      "|Y| : |B: |\n",
      "+---------+\n",
      "  (South)\n",
      "+---------+\n",
      "|\u001b[35mR\u001b[0m: | : :G|\n",
      "| : | : : |\n",
      "| :\u001b[42m_\u001b[0m: : : |\n",
      "| | : | : |\n",
      "|Y| : |B: |\n",
      "+---------+\n",
      "  (West)\n",
      "+---------+\n",
      "|\u001b[35mR\u001b[0m: | : :G|\n",
      "| : | : : |\n",
      "|\u001b[42m_\u001b[0m: : : : |\n",
      "| | : | : |\n",
      "|Y| : |B: |\n",
      "+---------+\n",
      "  (West)\n",
      "+---------+\n",
      "|\u001b[35mR\u001b[0m: | : :G|\n",
      "|\u001b[42m_\u001b[0m: | : : |\n",
      "| : : : : |\n",
      "| | : | : |\n",
      "|Y| : |B: |\n",
      "+---------+\n",
      "  (North)\n",
      "+---------+\n",
      "|\u001b[35m\u001b[42mR\u001b[0m\u001b[0m: | : :G|\n",
      "| : | : : |\n",
      "| : : : : |\n",
      "| | : | : |\n",
      "|Y| : |B: |\n",
      "+---------+\n",
      "  (North)\n",
      "+---------+\n",
      "|\u001b[35m\u001b[34;1m\u001b[43mR\u001b[0m\u001b[0m\u001b[0m: | : :G|\n",
      "| : | : : |\n",
      "| : : : : |\n",
      "| | : | : |\n",
      "|Y| : |B: |\n",
      "+---------+\n",
      "  (Dropoff)\n"
     ]
    }
   ],
   "source": [
    "counter = 0\n",
    "while done != True:\n",
    "    # We simply take the action with the highest Q Value\n",
    "    action = np.argmax(Q[state])\n",
    "    state, reward, done, info = env.step(action)\n",
    "    counter = counter + 1\n",
    "    env.render()"
   ]
  },
  {
   "cell_type": "code",
   "execution_count": 19,
   "id": "9e020be8",
   "metadata": {},
   "outputs": [
    {
     "name": "stdout",
     "output_type": "stream",
     "text": [
      "No of steps:  18\n",
      "Total reward:  20\n"
     ]
    }
   ],
   "source": [
    "print(\"No of steps: \", counter)\n",
    "print(\"Total reward: \",reward)"
   ]
  },
  {
   "cell_type": "code",
   "execution_count": null,
   "id": "bcb3fad9",
   "metadata": {},
   "outputs": [],
   "source": []
  }
 ],
 "metadata": {
  "kernelspec": {
   "display_name": "Python 3 (ipykernel)",
   "language": "python",
   "name": "python3"
  },
  "language_info": {
   "codemirror_mode": {
    "name": "ipython",
    "version": 3
   },
   "file_extension": ".py",
   "mimetype": "text/x-python",
   "name": "python",
   "nbconvert_exporter": "python",
   "pygments_lexer": "ipython3",
   "version": "3.10.9"
  }
 },
 "nbformat": 4,
 "nbformat_minor": 5
}
