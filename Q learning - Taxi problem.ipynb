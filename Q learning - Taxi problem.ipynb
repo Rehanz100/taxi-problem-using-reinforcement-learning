{
 "cells": [
  {
   "cell_type": "markdown",
   "id": "551ddbaa",
   "metadata": {},
   "source": [
    "## Problem statement: Use reinforcement learning to train a taxi(agent) to pick and drop off passenger autonomously."
   ]
  },
  {
   "cell_type": "code",
   "execution_count": 1,
   "id": "5849658d",
   "metadata": {},
   "outputs": [],
   "source": [
    "# Importing Libraries\n",
    "import gym\n",
    "import numpy as np\n",
    "import pickle, os"
   ]
  },
  {
   "cell_type": "code",
   "execution_count": 2,
   "id": "74af01cf",
   "metadata": {},
   "outputs": [],
   "source": [
    "# Import taxi environment from OpenGym. \n",
    "env = gym.make(\"Taxi-v3\")"
   ]
  },
  {
   "cell_type": "code",
   "execution_count": 3,
   "id": "e532b81b",
   "metadata": {},
   "outputs": [],
   "source": [
    "#Getting random state\n",
    "state = env.reset()"
   ]
  },
  {
   "cell_type": "code",
   "execution_count": 4,
   "id": "6efd42e7",
   "metadata": {},
   "outputs": [
    {
     "data": {
      "text/plain": [
       "31"
      ]
     },
     "execution_count": 4,
     "metadata": {},
     "output_type": "execute_result"
    }
   ],
   "source": [
    "state"
   ]
  },
  {
   "cell_type": "code",
   "execution_count": 5,
   "id": "f1cd3ca8",
   "metadata": {},
   "outputs": [
    {
     "name": "stdout",
     "output_type": "stream",
     "text": [
      "+---------+\n",
      "|R:\u001b[43m \u001b[0m| : :G|\n",
      "| : | : : |\n",
      "| : : : : |\n",
      "| | : | : |\n",
      "|\u001b[34;1mY\u001b[0m| : |\u001b[35mB\u001b[0m: |\n",
      "+---------+\n",
      "\n"
     ]
    }
   ],
   "source": [
    "#Visualizing the state.\n",
    "env.render()"
   ]
  },
  {
   "cell_type": "markdown",
   "id": "5b0a19ac",
   "metadata": {},
   "source": [
    "<h1>Possible Actions</h1>\n",
    "\n",
    "down (0), up (1), right (2), left (3), pick-up (4), and drop-off (5)"
   ]
  },
  {
   "cell_type": "code",
   "execution_count": 6,
   "id": "f6826424",
   "metadata": {},
   "outputs": [],
   "source": [
    "#Getting the number of states and action\n",
    "n_states = env.observation_space.n\n",
    "n_actions = env.action_space.n"
   ]
  },
  {
   "cell_type": "code",
   "execution_count": 7,
   "id": "54b056d3",
   "metadata": {},
   "outputs": [
    {
     "data": {
      "text/plain": [
       "6"
      ]
     },
     "execution_count": 7,
     "metadata": {},
     "output_type": "execute_result"
    }
   ],
   "source": [
    "n_actions"
   ]
  },
  {
   "cell_type": "code",
   "execution_count": 8,
   "id": "67319fbe",
   "metadata": {},
   "outputs": [
    {
     "data": {
      "text/plain": [
       "500"
      ]
     },
     "execution_count": 8,
     "metadata": {},
     "output_type": "execute_result"
    }
   ],
   "source": [
    "n_states"
   ]
  },
  {
   "cell_type": "code",
   "execution_count": 9,
   "id": "cd567439",
   "metadata": {},
   "outputs": [],
   "source": [
    "#Moving to state number 254\n",
    "env.env.s = 254"
   ]
  },
  {
   "cell_type": "code",
   "execution_count": 10,
   "id": "019a5ed6",
   "metadata": {},
   "outputs": [
    {
     "name": "stdout",
     "output_type": "stream",
     "text": [
      "+---------+\n",
      "|R: | : :G|\n",
      "| : | : : |\n",
      "| : :\u001b[43m \u001b[0m: : |\n",
      "| | : | : |\n",
      "|\u001b[35mY\u001b[0m| : |\u001b[34;1mB\u001b[0m: |\n",
      "+---------+\n",
      "\n"
     ]
    }
   ],
   "source": [
    "env.render()"
   ]
  },
  {
   "cell_type": "code",
   "execution_count": 11,
   "id": "f17d7304",
   "metadata": {},
   "outputs": [
    {
     "data": {
      "text/plain": [
       "(234, -1, False, {'prob': 1.0})"
      ]
     },
     "execution_count": 11,
     "metadata": {},
     "output_type": "execute_result"
    }
   ],
   "source": [
    "#Take action 3 -> Move west.\n",
    "env.step(3)"
   ]
  },
  {
   "cell_type": "code",
   "execution_count": 12,
   "id": "2d6aa985",
   "metadata": {},
   "outputs": [
    {
     "name": "stdout",
     "output_type": "stream",
     "text": [
      "+---------+\n",
      "|R: | : :G|\n",
      "| : | : : |\n",
      "| :\u001b[43m \u001b[0m: : : |\n",
      "| | : | : |\n",
      "|\u001b[35mY\u001b[0m| : |\u001b[34;1mB\u001b[0m: |\n",
      "+---------+\n",
      "  (West)\n"
     ]
    }
   ],
   "source": [
    "#From the visualization it is evident that the taxi has moved one step west\n",
    "env.render()"
   ]
  },
  {
   "cell_type": "markdown",
   "id": "a560adb2",
   "metadata": {},
   "source": [
    "<h1>How good does behaving completely random do?</h1>"
   ]
  },
  {
   "cell_type": "code",
   "execution_count": 13,
   "id": "b44ee405",
   "metadata": {},
   "outputs": [],
   "source": [
    "#Testing how good can random actions helps in agent learning\n",
    "state = env.reset()\n",
    "counter = 0\n",
    "g = 0\n",
    "reward = None"
   ]
  },
  {
   "cell_type": "code",
   "execution_count": 14,
   "id": "95432a89",
   "metadata": {},
   "outputs": [
    {
     "name": "stdout",
     "output_type": "stream",
     "text": [
      "+---------+\n",
      "|\u001b[34;1mR\u001b[0m: | : :G|\n",
      "| : | : : |\n",
      "| : : : : |\n",
      "|\u001b[43m \u001b[0m| : | : |\n",
      "|\u001b[35mY\u001b[0m| : |B: |\n",
      "+---------+\n",
      "\n"
     ]
    }
   ],
   "source": [
    "env.render()"
   ]
  },
  {
   "cell_type": "code",
   "execution_count": 15,
   "id": "7a4cf9c8",
   "metadata": {},
   "outputs": [],
   "source": [
    "while reward != 20:\n",
    "    state, reward, done, info = env.step(env.action_space.sample())\n",
    "    counter += 1\n",
    "    g += reward"
   ]
  },
  {
   "cell_type": "code",
   "execution_count": 16,
   "id": "4f47b9a5",
   "metadata": {},
   "outputs": [
    {
     "name": "stdout",
     "output_type": "stream",
     "text": [
      "Solved in 7930 Steps with a total reward of -31003\n"
     ]
    }
   ],
   "source": [
    "print(\"Solved in {} Steps with a total reward of {}\".format(counter,g))"
   ]
  },
  {
   "cell_type": "markdown",
   "id": "0f77077a",
   "metadata": {},
   "source": [
    "#### The total cumulative reward is a large negative number, we can improve this using the Q learning algorithm."
   ]
  },
  {
   "cell_type": "markdown",
   "id": "82e93b2a",
   "metadata": {},
   "source": [
    "## Let's look at just one episode and see how the Q values change after each step using the formula below"
   ]
  },
  {
   "cell_type": "code",
   "execution_count": 17,
   "id": "b7e0e066",
   "metadata": {},
   "outputs": [],
   "source": [
    "Q = np.zeros([n_states, n_actions]) #Creating a Q table with no.of states as rows and no. of actions as columns."
   ]
  },
  {
   "cell_type": "code",
   "execution_count": 18,
   "id": "23418d6c",
   "metadata": {},
   "outputs": [
    {
     "name": "stdout",
     "output_type": "stream",
     "text": [
      "No. of rows: 500\n",
      "No. of colums: 6\n"
     ]
    }
   ],
   "source": [
    "print(\"No. of rows:\",Q.shape[0])\n",
    "print(\"No. of colums:\",Q.shape[1])"
   ]
  },
  {
   "cell_type": "code",
   "execution_count": 19,
   "id": "0b5b0147",
   "metadata": {},
   "outputs": [],
   "source": [
    "episodes = 1000 #Setting the value of episodes to be 1000\n",
    "max_steps = 100 #This variable can be used to train the agent within the given number of steps.\n",
    "alpha = 0.618 #Hyperparam\n",
    "gamma = 0.96 #Hyperparam\n",
    "G = 0 # Current reward"
   ]
  },
  {
   "cell_type": "code",
   "execution_count": 20,
   "id": "92196e0e",
   "metadata": {},
   "outputs": [],
   "source": [
    "#This for loop represents the Q learning algorithm.\n",
    "for episode in range(1,episodes+1):\n",
    "    done = False\n",
    "    G, reward = 0,0 #Setting current reward and cumulative reward to zero.\n",
    "    state = env.reset() #Resetting the environment\n",
    "    firstState = state\n",
    "    noSteps = 0\n",
    "    #print(\"Initial State = {}\".format(state))\n",
    "    while done != True: # For each episode the agent trains only for the maximum number of steps\n",
    "        action = np.argmax(Q[state]) \n",
    "        state2, reward, done, info = env.step(action)\n",
    "        #Q learning formula\n",
    "        Q[state,action] = Q[state,action] +  alpha * (reward + gamma*np.max(Q[state2]) - Q[state,action]) \n",
    "        G += reward\n",
    "        state = state2\n",
    "        noSteps = noSteps + 1\n",
    "        if(noSteps >= max_steps ):\n",
    "            done = True"
   ]
  },
  {
   "cell_type": "code",
   "execution_count": 21,
   "id": "7e51ba71",
   "metadata": {},
   "outputs": [
    {
     "data": {
      "text/plain": [
       "array([[ 0.        ,  0.        ,  0.        ,  0.        ,  0.        ,\n",
       "         0.        ],\n",
       "       [-5.23787   , -5.53595091, -5.68506717, -5.53595091,  6.16402981,\n",
       "        -6.18      ],\n",
       "       [-3.74530212, -4.01807953, -3.94971586, -4.01807953, 11.69177139,\n",
       "        -6.18      ],\n",
       "       ...,\n",
       "       [-2.94096042, -3.10822542, -2.94096042, -3.02144421, -6.18      ,\n",
       "        -6.18      ],\n",
       "       [-4.01807953, -3.23598551, -4.01807953, -3.93460762, -6.18      ,\n",
       "        -6.18      ],\n",
       "       [-1.22072304, -1.22072304, -1.22072304,  6.4788648 , -6.18      ,\n",
       "        -6.18      ]])"
      ]
     },
     "execution_count": 21,
     "metadata": {},
     "output_type": "execute_result"
    }
   ],
   "source": [
    "Q"
   ]
  },
  {
   "cell_type": "code",
   "execution_count": 22,
   "id": "5002276f",
   "metadata": {},
   "outputs": [],
   "source": [
    "state = env.reset()\n",
    "done = False"
   ]
  },
  {
   "cell_type": "code",
   "execution_count": 23,
   "id": "002328ac",
   "metadata": {},
   "outputs": [
    {
     "name": "stdout",
     "output_type": "stream",
     "text": [
      "+---------+\n",
      "|R: | : :G|\n",
      "| : | :\u001b[43m \u001b[0m: |\n",
      "| : : : : |\n",
      "| | : | : |\n",
      "|\u001b[35mY\u001b[0m| : |\u001b[34;1mB\u001b[0m: |\n",
      "+---------+\n",
      "  (South)\n",
      "+---------+\n",
      "|R: | : :G|\n",
      "| : | : : |\n",
      "| : : :\u001b[43m \u001b[0m: |\n",
      "| | : | : |\n",
      "|\u001b[35mY\u001b[0m| : |\u001b[34;1mB\u001b[0m: |\n",
      "+---------+\n",
      "  (South)\n",
      "+---------+\n",
      "|R: | : :G|\n",
      "| : | : : |\n",
      "| : : : : |\n",
      "| | : |\u001b[43m \u001b[0m: |\n",
      "|\u001b[35mY\u001b[0m| : |\u001b[34;1mB\u001b[0m: |\n",
      "+---------+\n",
      "  (South)\n",
      "+---------+\n",
      "|R: | : :G|\n",
      "| : | : : |\n",
      "| : : : : |\n",
      "| | : | : |\n",
      "|\u001b[35mY\u001b[0m| : |\u001b[34;1m\u001b[43mB\u001b[0m\u001b[0m: |\n",
      "+---------+\n",
      "  (South)\n",
      "+---------+\n",
      "|R: | : :G|\n",
      "| : | : : |\n",
      "| : : : : |\n",
      "| | : | : |\n",
      "|\u001b[35mY\u001b[0m| : |\u001b[42mB\u001b[0m: |\n",
      "+---------+\n",
      "  (Pickup)\n",
      "+---------+\n",
      "|R: | : :G|\n",
      "| : | : : |\n",
      "| : : : : |\n",
      "| | : |\u001b[42m_\u001b[0m: |\n",
      "|\u001b[35mY\u001b[0m| : |B: |\n",
      "+---------+\n",
      "  (North)\n",
      "+---------+\n",
      "|R: | : :G|\n",
      "| : | : : |\n",
      "| : : :\u001b[42m_\u001b[0m: |\n",
      "| | : | : |\n",
      "|\u001b[35mY\u001b[0m| : |B: |\n",
      "+---------+\n",
      "  (North)\n",
      "+---------+\n",
      "|R: | : :G|\n",
      "| : | : : |\n",
      "| : :\u001b[42m_\u001b[0m: : |\n",
      "| | : | : |\n",
      "|\u001b[35mY\u001b[0m| : |B: |\n",
      "+---------+\n",
      "  (West)\n",
      "+---------+\n",
      "|R: | : :G|\n",
      "| : | : : |\n",
      "| :\u001b[42m_\u001b[0m: : : |\n",
      "| | : | : |\n",
      "|\u001b[35mY\u001b[0m| : |B: |\n",
      "+---------+\n",
      "  (West)\n",
      "+---------+\n",
      "|R: | : :G|\n",
      "| : | : : |\n",
      "|\u001b[42m_\u001b[0m: : : : |\n",
      "| | : | : |\n",
      "|\u001b[35mY\u001b[0m| : |B: |\n",
      "+---------+\n",
      "  (West)\n",
      "+---------+\n",
      "|R: | : :G|\n",
      "| : | : : |\n",
      "| : : : : |\n",
      "|\u001b[42m_\u001b[0m| : | : |\n",
      "|\u001b[35mY\u001b[0m| : |B: |\n",
      "+---------+\n",
      "  (South)\n",
      "+---------+\n",
      "|R: | : :G|\n",
      "| : | : : |\n",
      "| : : : : |\n",
      "| | : | : |\n",
      "|\u001b[35m\u001b[42mY\u001b[0m\u001b[0m| : |B: |\n",
      "+---------+\n",
      "  (South)\n",
      "+---------+\n",
      "|R: | : :G|\n",
      "| : | : : |\n",
      "| : : : : |\n",
      "| | : | : |\n",
      "|\u001b[35m\u001b[34;1m\u001b[43mY\u001b[0m\u001b[0m\u001b[0m| : |B: |\n",
      "+---------+\n",
      "  (Dropoff)\n"
     ]
    }
   ],
   "source": [
    "counter = 0\n",
    "#reward = 0\n",
    "while done != True:\n",
    "    action = np.argmax(Q[state])\n",
    "    state,reward,done,info = env.step(action)\n",
    "    env.render()\n",
    "    counter = counter + 1"
   ]
  },
  {
   "cell_type": "code",
   "execution_count": 24,
   "id": "da9e7a6e",
   "metadata": {},
   "outputs": [
    {
     "name": "stdout",
     "output_type": "stream",
     "text": [
      "No of Steps: 13\n"
     ]
    }
   ],
   "source": [
    "print(\"No of Steps:\", counter)"
   ]
  },
  {
   "cell_type": "code",
   "execution_count": 25,
   "id": "a3370ee0",
   "metadata": {},
   "outputs": [
    {
     "name": "stdout",
     "output_type": "stream",
     "text": [
      "Total reward: 20\n"
     ]
    }
   ],
   "source": [
    "print(\"Total reward:\", reward)"
   ]
  },
  {
   "cell_type": "markdown",
   "id": "7e9a1ed7",
   "metadata": {},
   "source": [
    "### Hence there is a stark difference between choosing a random approach vs Q learning algorithm. The Taxi(agent) completed the trip in much fewer steps and the cummulative reward is also positive"
   ]
  },
  {
   "cell_type": "code",
   "execution_count": null,
   "id": "7a89fb27",
   "metadata": {},
   "outputs": [],
   "source": []
  }
 ],
 "metadata": {
  "kernelspec": {
   "display_name": "Python 3 (ipykernel)",
   "language": "python",
   "name": "python3"
  },
  "language_info": {
   "codemirror_mode": {
    "name": "ipython",
    "version": 3
   },
   "file_extension": ".py",
   "mimetype": "text/x-python",
   "name": "python",
   "nbconvert_exporter": "python",
   "pygments_lexer": "ipython3",
   "version": "3.10.9"
  }
 },
 "nbformat": 4,
 "nbformat_minor": 5
}
